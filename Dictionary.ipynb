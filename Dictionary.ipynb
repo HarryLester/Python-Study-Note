{
 "cells": [
  {
   "cell_type": "markdown",
   "id": "5899975e",
   "metadata": {},
   "source": [
    "# 字典 Dictionary"
   ]
  },
  {
   "cell_type": "markdown",
   "id": "24687197",
   "metadata": {},
   "source": [
    "## Key and Value"
   ]
  },
  {
   "cell_type": "code",
   "execution_count": 10,
   "id": "8ee4ee98",
   "metadata": {},
   "outputs": [
    {
     "name": "stdout",
     "output_type": "stream",
     "text": [
      "{'KentoMomota': 1, 'ShiYuqi': 2, 'VictorAxcelsen': 3}\n",
      "{'KentoMomota': ['Ax99', 80], 'ShiYuqi': ['100zz', 0], 'VictorAxcelsen': ['100zz', 65]}\n",
      "Ax99\n"
     ]
    }
   ],
   "source": [
    "# key and value\n",
    "Player = {'KentoMomota':1,'ShiYuqi':2,'VictorAxelsen':3}\n",
    "print(Player)\n",
    "\n",
    "# 键一般是字符串、数字或者元组  值可以是任何类型\n",
    "Equip = {'KentoMomota':['Ax99',80],'ShiYuqi':['100zz',0],'VictorAxelsen':['100zz',65]}\n",
    "print(Equip)\n",
    "print(Equip['KentoMomota'][0])"
   ]
  },
  {
   "cell_type": "code",
   "execution_count": 5,
   "id": "e72c76db",
   "metadata": {},
   "outputs": [
    {
     "data": {
      "text/plain": [
       "1"
      ]
     },
     "execution_count": 5,
     "metadata": {},
     "output_type": "execute_result"
    }
   ],
   "source": [
    "# 访问\n",
    "Player['KentoMomota']"
   ]
  },
  {
   "cell_type": "code",
   "execution_count": 2,
   "id": "e81cfe6d",
   "metadata": {},
   "outputs": [
    {
     "name": "stdout",
     "output_type": "stream",
     "text": [
      "{'KentoMomota': 1, 'ShiYuqi': 2, 'VictorAxelsen': 3}\n",
      "{'a': 1, 'b': 2}\n"
     ]
    }
   ],
   "source": [
    "# 从列表到字典\n",
    "PlayerList = [('KentoMomota',1),('ShiYuqi',2),('VictorAxelsen',3)]\n",
    "dictPlayer = dict(PlayerList)\n",
    "print(dictPlayer)\n",
    "# key=value\n",
    "dictnum = dict(a=1,b=2)\n",
    "print(dictnum)"
   ]
  },
  {
   "cell_type": "markdown",
   "id": "bab9a147",
   "metadata": {},
   "source": [
    "# 基本操作"
   ]
  },
  {
   "cell_type": "markdown",
   "id": "6fc0e152",
   "metadata": {},
   "source": [
    "# 1. 添加条目"
   ]
  },
  {
   "cell_type": "code",
   "execution_count": 11,
   "id": "f4cc5418",
   "metadata": {},
   "outputs": [
    {
     "data": {
      "text/plain": [
       "'Ax99'"
      ]
     },
     "execution_count": 11,
     "metadata": {},
     "output_type": "execute_result"
    }
   ],
   "source": [
    "dictTest = {}\n",
    "dictTest['Kento'] = 'Ax99'\n",
    "dictTest['Kento']"
   ]
  },
  {
   "cell_type": "markdown",
   "id": "9b36ea27",
   "metadata": {},
   "source": [
    "# 2.修改条目"
   ]
  },
  {
   "cell_type": "code",
   "execution_count": 12,
   "id": "122279da",
   "metadata": {},
   "outputs": [
    {
     "data": {
      "text/plain": [
       "{'Kento': 'Ax99Pro'}"
      ]
     },
     "execution_count": 12,
     "metadata": {},
     "output_type": "execute_result"
    }
   ],
   "source": [
    "dictTest['Kento'] = 'Ax99Pro'\n",
    "dictTest"
   ]
  },
  {
   "cell_type": "markdown",
   "id": "7ffbb347",
   "metadata": {},
   "source": [
    "# 3. 删除条目"
   ]
  },
  {
   "cell_type": "markdown",
   "id": "35251ccc",
   "metadata": {},
   "source": [
    "##    1. 使用del命令"
   ]
  },
  {
   "cell_type": "code",
   "execution_count": 13,
   "id": "ad1b6a08",
   "metadata": {},
   "outputs": [
    {
     "data": {
      "text/plain": [
       "{}"
      ]
     },
     "execution_count": 13,
     "metadata": {},
     "output_type": "execute_result"
    }
   ],
   "source": [
    "del dictTest['Kento']\n",
    "dictTest"
   ]
  },
  {
   "cell_type": "markdown",
   "id": "c282f1d7",
   "metadata": {},
   "source": [
    "##    2.使用pop()"
   ]
  },
  {
   "cell_type": "code",
   "execution_count": 15,
   "id": "63cde92e",
   "metadata": {},
   "outputs": [
    {
     "name": "stdout",
     "output_type": "stream",
     "text": [
      "Ax99\n"
     ]
    }
   ],
   "source": [
    "dictTest = {'Kento':'Ax99','ShiYuqi':'Ax100zz'}\n",
    "AfterPop = dictTest.pop('Kento')\n",
    "# 使用pop会返回删除的值"
   ]
  },
  {
   "cell_type": "code",
   "execution_count": 17,
   "id": "dcd6cbc2",
   "metadata": {},
   "outputs": [
    {
     "name": "stdout",
     "output_type": "stream",
     "text": [
      "Ax99\n",
      "{'ShiYuqi': 'Ax100zz'}\n"
     ]
    }
   ],
   "source": [
    "# 所以被删除的值被储存在AfterPop中了，dictTest中的值被删除\n",
    "print(AfterPop)\n",
    "print(dictTest)"
   ]
  },
  {
   "cell_type": "code",
   "execution_count": 19,
   "id": "ea2685e1",
   "metadata": {},
   "outputs": [
    {
     "data": {
      "text/plain": [
       "\"Can't find player\""
      ]
     },
     "execution_count": 19,
     "metadata": {},
     "output_type": "execute_result"
    }
   ],
   "source": [
    "# 不确定键是否在字典中存在时，需要给出默认值，否则会报错\n",
    "after = dictTest.pop('Victor','Can\\'t find player')\n",
    "after"
   ]
  },
  {
   "cell_type": "markdown",
   "id": "2b717511",
   "metadata": {},
   "source": [
    "##    3.popitem()随即删除字典条目"
   ]
  },
  {
   "cell_type": "code",
   "execution_count": 20,
   "id": "96e7dbdc",
   "metadata": {},
   "outputs": [
    {
     "name": "stdout",
     "output_type": "stream",
     "text": [
      "('VictorAxcelsen', 3)\n",
      "{'KentoMomota': 1, 'ShiYuqi': 2}\n"
     ]
    }
   ],
   "source": [
    "Player = {'KentoMomota':1,'ShiYuqi':2,'VictorAxelsen':3}\n",
    "item = Player.popitem()\n",
    "print(item)\n",
    "print(Player)"
   ]
  },
  {
   "cell_type": "markdown",
   "id": "e2b684e2",
   "metadata": {},
   "source": [
    "##    4.clear()清空字典条目"
   ]
  },
  {
   "cell_type": "code",
   "execution_count": 21,
   "id": "6d6e87af",
   "metadata": {},
   "outputs": [
    {
     "name": "stdout",
     "output_type": "stream",
     "text": [
      "{'KentoMomota': 1, 'ShiYuqi': 2}\n",
      "{}\n"
     ]
    }
   ],
   "source": [
    "print(Player)\n",
    "Player.clear()\n",
    "print(Player)"
   ]
  },
  {
   "cell_type": "markdown",
   "id": "b4588a2c",
   "metadata": {},
   "source": [
    "##    5.直接删除整个字典"
   ]
  },
  {
   "cell_type": "code",
   "execution_count": 22,
   "id": "b3f66c0c",
   "metadata": {
    "collapsed": true
   },
   "outputs": [
    {
     "ename": "NameError",
     "evalue": "name 'Player' is not defined",
     "output_type": "error",
     "traceback": [
      "\u001b[0;31m---------------------------------------------------------------------------\u001b[0m",
      "\u001b[0;31mNameError\u001b[0m                                 Traceback (most recent call last)",
      "Cell \u001b[0;32mIn[22], line 2\u001b[0m\n\u001b[1;32m      1\u001b[0m \u001b[38;5;28;01mdel\u001b[39;00m Player\n\u001b[0;32m----> 2\u001b[0m Player\n",
      "\u001b[0;31mNameError\u001b[0m: name 'Player' is not defined"
     ]
    }
   ],
   "source": [
    "del Player\n",
    "Player"
   ]
  },
  {
   "cell_type": "markdown",
   "id": "19dfd01f",
   "metadata": {},
   "source": [
    "# 查找字典条目"
   ]
  },
  {
   "cell_type": "markdown",
   "id": "cf2124d0",
   "metadata": {},
   "source": [
    "## 1. in 运算符"
   ]
  },
  {
   "cell_type": "code",
   "execution_count": 23,
   "id": "619a002a",
   "metadata": {},
   "outputs": [
    {
     "data": {
      "text/plain": [
       "True"
      ]
     },
     "execution_count": 23,
     "metadata": {},
     "output_type": "execute_result"
    }
   ],
   "source": [
    "Player = {'KentoMomota':1,'ShiYuqi':2,'VictorAxelsen':3}\n",
    "'KentoMomota' in Player"
   ]
  },
  {
   "cell_type": "markdown",
   "id": "7214c114",
   "metadata": {},
   "source": [
    "## 2.get()方法获取条目的值"
   ]
  },
  {
   "cell_type": "code",
   "execution_count": 24,
   "id": "97b78fed",
   "metadata": {},
   "outputs": [
    {
     "data": {
      "text/plain": [
       "\"Can't find\""
      ]
     },
     "execution_count": 24,
     "metadata": {},
     "output_type": "execute_result"
    }
   ],
   "source": [
    "Player.get('Lindan','Can\\'t find')"
   ]
  },
  {
   "cell_type": "code",
   "execution_count": 25,
   "id": "25412650",
   "metadata": {},
   "outputs": [
    {
     "data": {
      "text/plain": [
       "1"
      ]
     },
     "execution_count": 25,
     "metadata": {},
     "output_type": "execute_result"
    }
   ],
   "source": [
    "Player.get('KentoMomota')"
   ]
  },
  {
   "cell_type": "markdown",
   "id": "f745b300",
   "metadata": {},
   "source": [
    "# 字典的整体操作"
   ]
  },
  {
   "cell_type": "markdown",
   "id": "0c8bcab9",
   "metadata": {},
   "source": [
    "## 字典的遍历"
   ]
  },
  {
   "cell_type": "markdown",
   "id": "21a0adcd",
   "metadata": {},
   "source": [
    "## 1.遍历字典中的所有键"
   ]
  },
  {
   "cell_type": "code",
   "execution_count": 29,
   "id": "e4a70567",
   "metadata": {},
   "outputs": [
    {
     "name": "stdout",
     "output_type": "stream",
     "text": [
      "KentoMomota\n",
      "ShiYuqi\n",
      "VictorAxcelsen\n"
     ]
    }
   ],
   "source": [
    "Player = {'KentoMomota':1,'ShiYuqi':2,'VictorAxelsen':3}\n",
    "for key in Player.keys():\n",
    "    print(key)"
   ]
  },
  {
   "cell_type": "markdown",
   "id": "5bf2f231",
   "metadata": {},
   "source": [
    "## 2.遍历字典中所有的值"
   ]
  },
  {
   "cell_type": "code",
   "execution_count": 31,
   "id": "f1a66bb2",
   "metadata": {},
   "outputs": [
    {
     "name": "stdout",
     "output_type": "stream",
     "text": [
      "1\n",
      "2\n",
      "3\n"
     ]
    }
   ],
   "source": [
    "for value in Player.values():\n",
    "    print(value)"
   ]
  },
  {
   "cell_type": "markdown",
   "id": "90ce18e3",
   "metadata": {},
   "source": [
    "## 3.遍历字典中所有条目"
   ]
  },
  {
   "cell_type": "code",
   "execution_count": 35,
   "id": "3214c721",
   "metadata": {},
   "outputs": [
    {
     "name": "stdout",
     "output_type": "stream",
     "text": [
      "{'KentoMomota': 1, 'ShiYuqi': 2, 'VictorAxcelsen': 3}\n",
      "('KentoMomota', 1)\n",
      "('ShiYuqi', 2)\n",
      "('VictorAxcelsen', 3)\n",
      "Player: KentoMomota Ranking: 1\n",
      "Player: ShiYuqi Ranking: 2\n",
      "Player: VictorAxcelsen Ranking: 3\n"
     ]
    }
   ],
   "source": [
    "print(Player)\n",
    "for item in Player.items():\n",
    "    print(item)\n",
    "    \n",
    "for key,value in Player.items():\n",
    "    print('Player:',key,'Ranking:',value)"
   ]
  },
  {
   "cell_type": "markdown",
   "id": "21ba339f",
   "metadata": {},
   "source": [
    "# 字典的排序"
   ]
  },
  {
   "cell_type": "code",
   "execution_count": null,
   "id": "5bcdc2fb",
   "metadata": {},
   "outputs": [],
   "source": []
  },
  {
   "cell_type": "markdown",
   "id": "03e7dac2",
   "metadata": {},
   "source": [
    "# 利用字典统计字母出现次数"
   ]
  },
  {
   "cell_type": "code",
   "execution_count": 5,
   "id": "f2590bc0",
   "metadata": {},
   "outputs": [
    {
     "name": "stdout",
     "output_type": "stream",
     "text": [
      "{'L': 1, 'i': 2, 'f': 1, 'e': 4, ' ': 5, 's': 2, 'h': 2, 'o': 2, 'r': 1, 't': 2, ',': 1, 'w': 1, 'n': 2, 'd': 1, 'p': 1, 'y': 1, '.': 1}\n"
     ]
    }
   ],
   "source": [
    "str = \"Life is short, we need python.\"\n",
    "dic = {}\n",
    "for char in str:\n",
    "    #dic[char]+=1 wrong!!!\n",
    "    dic[char] = dic.get(char,0) + 1\n",
    "print(dic)"
   ]
  }
 ],
 "metadata": {
  "kernelspec": {
   "display_name": "Python 3 (ipykernel)",
   "language": "python",
   "name": "python3"
  },
  "language_info": {
   "codemirror_mode": {
    "name": "ipython",
    "version": 3
   },
   "file_extension": ".py",
   "mimetype": "text/x-python",
   "name": "python",
   "nbconvert_exporter": "python",
   "pygments_lexer": "ipython3",
   "version": "3.11.5"
  }
 },
 "nbformat": 4,
 "nbformat_minor": 5
}
