{
 "cells": [
  {
   "cell_type": "markdown",
   "metadata": {},
   "source": [
    "# 第七章作业 #"
   ]
  },
  {
   "cell_type": "markdown",
   "metadata": {},
   "source": [
    "1.文件score.csv保存了学生的平时成绩和期末成绩，内容如下:\n",
    "学号,平时成绩,期末成绩\n",
    "9999180101,77,88\n",
    "9999180102,91,85\n",
    "9999180103,87,96\n",
    "9999180104,70,68\n",
    "9999180105,86,72\n",
    "编写程序读取所有成绩，计算总评成绩（四舍五入到整数），其中总评成绩=平时成绩40%+期末成绩60%。最后按总评成绩降序排列后保存至一个新的文件内。"
   ]
  },
  {
   "cell_type": "code",
   "execution_count": 1,
   "metadata": {},
   "outputs": [
    {
     "name": "stdout",
     "output_type": "stream",
     "text": [
      "[('9999180103', [87.0, 96.0, 92]), ('9999180102', [91.0, 85.0, 87]), ('9999180101', [77.0, 88.0, 84]), ('9999180105', [86.0, 72.0, 78]), ('9999180104', [70.0, 68.0, 69])]\n"
     ]
    }
   ],
   "source": [
    "import csv\n",
    "info = []\n",
    "with open(\"score.csv\",'r') as stucsv:\n",
    "    reader = csv.reader(stucsv)\n",
    "    for row in reader:\n",
    "        info.append(row)\n",
    "#print(info)\n",
    "infodict = {}\n",
    "\n",
    "for item in info:\n",
    "    infodict[item[0]] = [float(item[1]),float(item[2])]\n",
    "#print(infodict)\n",
    "\n",
    "for key in infodict.keys():\n",
    "    infodict[key].append(round(infodict[key][0]*0.4+infodict[key][1]*0.6))\n",
    "#print(infodict)\n",
    "\n",
    "sorted_infodict = sorted(infodict.items(),key = lambda item: item[1][2],reverse=True)\n",
    "print(sorted_infodict)\n",
    "\n",
    "with open(\"sorted_score.csv\",'w+') as stucsv:\n",
    "    writer = csv.writer(stucsv)\n",
    "    for item in sorted_infodict:\n",
    "        writer.writerow([item[0],item[1][0],item[1][1]])\n"
   ]
  },
  {
   "cell_type": "code",
   "execution_count": null,
   "metadata": {},
   "outputs": [],
   "source": []
  }
 ],
 "metadata": {
  "kernelspec": {
   "display_name": "Python 3 (ipykernel)",
   "language": "python",
   "name": "python3"
  },
  "language_info": {
   "codemirror_mode": {
    "name": "ipython",
    "version": 3
   },
   "file_extension": ".py",
   "mimetype": "text/x-python",
   "name": "python",
   "nbconvert_exporter": "python",
   "pygments_lexer": "ipython3",
   "version": "3.11.5"
  }
 },
 "nbformat": 4,
 "nbformat_minor": 2
}
