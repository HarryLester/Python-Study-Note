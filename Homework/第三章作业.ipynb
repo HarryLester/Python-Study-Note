{
 "cells": [
  {
   "cell_type": "markdown",
   "metadata": {},
   "source": [
    "# 第三章作业 #\n",
    "1.编写程序，根据输入的点的横坐标和纵坐标，输出该点所在的象限。"
   ]
  },
  {
   "cell_type": "code",
   "execution_count": 1,
   "metadata": {},
   "outputs": [
    {
     "name": "stdout",
     "output_type": "stream",
     "text": [
      "Please input the value of x:3\n",
      "Please input the value of y:5\n",
      "First Quadrant\n"
     ]
    }
   ],
   "source": [
    "x = float(input('Please input the value of x:'))\n",
    "y = float(input('Please input the value of y:'))\n",
    "if x > 0 :\n",
    "    if y > 0:\n",
    "        print('First Quadrant')\n",
    "    elif y == 0:\n",
    "        print('On the y-axis')\n",
    "    else:\n",
    "        print('Forth Quadrant')\n",
    "elif x == 0:\n",
    "    print('On the x-axis')\n",
    "else:\n",
    "    if y > 0:\n",
    "        print('Second Quadrant')\n",
    "    elif y == 0:\n",
    "        print('On the x-axis')\n",
    "    else:\n",
    "        print('Third Quadrant')"
   ]
  },
  {
   "cell_type": "markdown",
   "metadata": {},
   "source": [
    "2.编写程序，计算1~100之间所有能被3整除，但是不能被5整除的数的和。"
   ]
  },
  {
   "cell_type": "code",
   "execution_count": 1,
   "metadata": {},
   "outputs": [
    {
     "name": "stdout",
     "output_type": "stream",
     "text": [
      "result: 1368\n"
     ]
    }
   ],
   "source": [
    "result = 0\n",
    "for i in range(1,101):\n",
    "    if i%3==0 and i%5 != 0:\n",
    "        result+=i\n",
    "print('result:',result)"
   ]
  },
  {
   "cell_type": "markdown",
   "metadata": {},
   "source": [
    "3.利用“牛顿迭代法”求出1~n之间的所有整数的算数平方根，精确到1e-10"
   ]
  },
  {
   "cell_type": "code",
   "execution_count": 1,
   "metadata": {},
   "outputs": [
    {
     "name": "stdout",
     "output_type": "stream",
     "text": [
      "整数 1 的算术平方根为: 1\n",
      "整数 2 的算术平方根为: 1.4142135623746899\n",
      "整数 3 的算术平方根为: 1.7320508075688772\n",
      "整数 4 的算术平方根为: 2.000000000000002\n",
      "整数 5 的算术平方根为: 2.236067977499978\n",
      "整数 6 的算术平方根为: 2.4494897427875517\n",
      "整数 7 的算术平方根为: 2.6457513110645907\n",
      "整数 8 的算术平方根为: 2.8284271247461903\n",
      "整数 9 的算术平方根为: 3.0\n",
      "整数 10 的算术平方根为: 3.1622776601683795\n"
     ]
    }
   ],
   "source": [
    "def newton_sqrt(S, x0, tol=1e-10, max_iter=100):\n",
    "    x = x0\n",
    "    for _ in range(max_iter):\n",
    "        f_x = x**2 - S\n",
    "        if abs(f_x) < tol:\n",
    "            return x\n",
    "        else:\n",
    "            x = x - f_x / (2 * x)\n",
    "    return x\n",
    "\n",
    "def all_integer_square_roots(n):\n",
    "    square_roots = {}\n",
    "    for i in range(1, n + 1):\n",
    "        square_roots[i] = newton_sqrt(i, 1)  # 使用牛顿迭代法求解平方根\n",
    "    return square_roots\n",
    "\n",
    "n = 10  # 上限值\n",
    "square_roots = all_integer_square_roots(n)\n",
    "for i, root in square_roots.items():\n",
    "    print(f\"整数 {i} 的算术平方根为: {root}\")"
   ]
  },
  {
   "cell_type": "markdown",
   "metadata": {},
   "source": [
    "4.在1~100之间（包括1和100）产生三个随机整数：a,b,c,求a,b,c的最小公倍数。"
   ]
  },
  {
   "cell_type": "code",
   "execution_count": 20,
   "metadata": {},
   "outputs": [
    {
     "name": "stdout",
     "output_type": "stream",
     "text": [
      "42174\n"
     ]
    }
   ],
   "source": [
    "import random\n",
    "a = random.randint(1,101)\n",
    "b = random.randint(1,101)\n",
    "c = random.randint(1,101)\n",
    "Max = max(a,b,c)\n",
    "result = 0\n",
    "for i in range(Max,100000):\n",
    "    if i%a==0 and i%b==0 and i%c==0:\n",
    "        result = i\n",
    "        break\n",
    "print(result)"
   ]
  }
 ],
 "metadata": {
  "kernelspec": {
   "display_name": "Python 3 (ipykernel)",
   "language": "python",
   "name": "python3"
  },
  "language_info": {
   "codemirror_mode": {
    "name": "ipython",
    "version": 3
   },
   "file_extension": ".py",
   "mimetype": "text/x-python",
   "name": "python",
   "nbconvert_exporter": "python",
   "pygments_lexer": "ipython3",
   "version": "3.11.5"
  }
 },
 "nbformat": 4,
 "nbformat_minor": 2
}
