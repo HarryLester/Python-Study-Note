{
 "cells": [
  {
   "cell_type": "markdown",
   "metadata": {},
   "source": [
    "# 第五章作业#"
   ]
  },
  {
   "cell_type": "markdown",
   "metadata": {},
   "source": [
    "1.试编写程序，实现以下功能：\n",
    "（1）创建一个字典，存放所有已注册用户的用户名和密码，内容如表1所示。\n",
    "\n",
    "    表1\n",
    "用户名\t    密码\n",
    "John\t   123\n",
    "Maryy\t   111\n",
    "Tommy\t  123456\n",
    "（2）提示用户输入用户名和密码。\n",
    "（3）依次对用户名和密码进行判断，并给出相应的提示。\n",
    "若用户名输入错误，则提示“用户名不正确！”\n",
    "若密码输入错误，则提示“密码不正确！”\n",
    "若用户名和密码均正确，则提示“登陆成功！”"
   ]
  },
  {
   "cell_type": "code",
   "execution_count": 26,
   "metadata": {},
   "outputs": [
    {
     "name": "stdout",
     "output_type": "stream",
     "text": [
      "登陆成功!\n"
     ]
    }
   ],
   "source": [
    "# 1.\n",
    "Account = {'John':123,'Marry':111,'Tommy':123456}\n",
    "\n",
    "# 2.\n",
    "account = input('用户名:')\n",
    "Password = int(input('密码:'))\n",
    "\n",
    "#3.\n",
    "if account not in Account:\n",
    "    print('用户名不正确！')\n",
    "elif Password != Account[account]:\n",
    "    print('密码不正确！')\n",
    "else :\n",
    "    print('登陆成功!')"
   ]
  },
  {
   "cell_type": "markdown",
   "metadata": {},
   "source": [
    "2.假设字典dic_city存放了每个人旅游过的城市，内容为{'张三凤':['北京','成都'],'李茉绸':['上海','广州','兰州'],'慕容海':['太原','西安','济南','上海']}。试编写程序，实现以下功能。\n",
    "（1）统计每个人旅游过的城市数目。\n",
    "（2）统计去过上海的人数以及名单。\n"
   ]
  },
  {
   "cell_type": "code",
   "execution_count": 4,
   "metadata": {},
   "outputs": [
    {
     "name": "stdout",
     "output_type": "stream",
     "text": [
      "{'张三凤': 2, '李茉绸': 3, '慕容海': 4}\n",
      "去过上海的人数： 2\n",
      "去过上海的名单： ['李茉绸', '慕容海']\n"
     ]
    }
   ],
   "source": [
    "dic_city = {'张三凤':['北京','成都'],'李茉绸':['上海','广州','兰州'],'慕容海':['太原','西安','济南','上海']}\n",
    "\n",
    "#（1）\n",
    "dic_city_num = {}\n",
    "for key in dic_city :\n",
    "    dic_city_num[key] = len(dic_city[key])\n",
    "print(dic_city_num)\n",
    "\n",
    "# (2)\n",
    "list_Shanghai = []\n",
    "count_Shanghai = 0\n",
    "for key in dic_city:\n",
    "    if '上海' in dic_city[key]:\n",
    "        count_Shanghai += 1\n",
    "        list_Shanghai.append(key)\n",
    "print('去过上海的人数：',count_Shanghai)\n",
    "print('去过上海的名单：',list_Shanghai)"
   ]
  },
  {
   "cell_type": "markdown",
   "metadata": {},
   "source": [
    "3.已知字符串变量s=\"When in the course of human events, it becomes necessary for one people to dissolve the political bands which have connected them with another, and to assume among the powers of the earth, the separate and equal atation to which the Laws of Nature and of Nature’s God entitle them, a decent respect to the opinions of mankind requires that they should declare the causes which impel them to the separation.\"，存放了美国独立宣言中的一段话。试编写程序，实现以下功能：\n",
    "（1）对文本中每个单词出现的次数进行统计，并将结果输出。\n",
    "（2）输出出现次数排在前五名的单词。"
   ]
  },
  {
   "cell_type": "code",
   "execution_count": 24,
   "metadata": {},
   "outputs": [
    {
     "name": "stdout",
     "output_type": "stream",
     "text": [
      "每个单词统计结果： {'When': 1, 'in': 1, 'the': 9, 'course': 1, 'of': 5, 'human': 1, 'events': 1, 'it': 1, 'becomes': 1, 'necessary': 1, 'for': 1, 'one': 1, 'people': 1, 'to': 5, 'dissolve': 1, 'political': 1, 'bands': 1, 'which': 3, 'have': 1, 'connected': 1, 'them': 3, 'with': 1, 'another': 1, 'and': 3, 'assume': 1, 'among': 1, 'powers': 1, 'earth': 1, 'separate': 1, 'equal': 1, 'atation': 1, 'Laws': 1, 'Nature': 1, 'Nature’s': 1, 'God': 1, 'entitle': 1, 'a': 1, 'decent': 1, 'respect': 1, 'opinions': 1, 'mankind': 1, 'requires': 1, 'that': 1, 'they': 1, 'should': 1, 'declare': 1, 'causes': 1, 'impel': 1, 'separation': 1} \n",
      "\n",
      "出现次数前5的单词：\n",
      "('the', 9)\n",
      "('of', 5)\n",
      "('to', 5)\n",
      "('which', 3)\n",
      "('them', 3)\n"
     ]
    }
   ],
   "source": [
    "s=\"When in the course of human events, it becomes necessary for one people to dissolve the political bands which have connected them with another, and to assume among the powers of the earth, the separate and equal atation to which the Laws of Nature and of Nature’s God entitle them, a decent respect to the opinions of mankind requires that they should declare the causes which impel them to the separation.\"\n",
    "\n",
    "# 将标点符号去掉\n",
    "\n",
    "# s_without_punctuation = ''\n",
    "# for char in s:\n",
    "#     if char not in ',.':\n",
    "#         s_without_punctuation += char\n",
    "\n",
    "s_replace = s.replace(',','')\n",
    "s_replace = s_replace.replace('.','')\n",
    "\n",
    "# string变list\n",
    "list_s = s_replace.split(' ')\n",
    "\n",
    "dic_count ={}\n",
    "for item in list_s:\n",
    "    if item not in dic_count:\n",
    "        dic_count[item] = 1\n",
    "    else :\n",
    "        dic_count[item]+=1\n",
    "print('每个单词统计结果:',dic_count,'\\n')\n",
    "\n",
    "print('出现次数前5的单词:')\n",
    "sorted_dic = sorted(dic_count.items(),key = lambda x:-x[1])\n",
    "for i in range(0,5):\n",
    "    print(sorted_dic[i])\n"
   ]
  },
  {
   "cell_type": "code",
   "execution_count": null,
   "metadata": {},
   "outputs": [],
   "source": []
  }
 ],
 "metadata": {
  "kernelspec": {
   "display_name": "Python 3 (ipykernel)",
   "language": "python",
   "name": "python3"
  },
  "language_info": {
   "codemirror_mode": {
    "name": "ipython",
    "version": 3
   },
   "file_extension": ".py",
   "mimetype": "text/x-python",
   "name": "python",
   "nbconvert_exporter": "python",
   "pygments_lexer": "ipython3",
   "version": "3.11.5"
  }
 },
 "nbformat": 4,
 "nbformat_minor": 2
}
