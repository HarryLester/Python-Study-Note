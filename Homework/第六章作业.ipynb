{
 "cells": [
  {
   "cell_type": "markdown",
   "metadata": {},
   "source": [
    "1.编写数据序列的描述性统计分析函数（均值、中位数、方差、偏度、峰度）"
   ]
  },
  {
   "cell_type": "code",
   "execution_count": 3,
   "metadata": {},
   "outputs": [
    {
     "name": "stdout",
     "output_type": "stream",
     "text": [
      "均值: 3.0 中位数: 3 方差: 2.0 偏度: 0.0 峰度: -1.3\n"
     ]
    }
   ],
   "source": [
    "import math as m\n",
    "\n",
    "def describe(data_list):\n",
    "    sum_data = sum(data_list)\n",
    "    avg = sum_data / len(data_list)\n",
    "\n",
    "    data_list_sorted = sorted(data_list)\n",
    "    median_index = len(data_list) // 2\n",
    "    median = data_list_sorted[median_index]\n",
    "\n",
    "    variance = sum((item - avg) ** 2 for item in data_list) / len(data_list)\n",
    "\n",
    "    skewness = sum((item - avg) ** 3 for item in data_list) / len(data_list) / m.sqrt(variance)\n",
    "\n",
    "    kurtosis = sum((item - avg) ** 4 for item in data_list) / len(data_list) / variance ** 2 - 3\n",
    "\n",
    "    print('均值:', avg, '中位数:', median, '方差:', variance, '偏度:', skewness, '峰度:', kurtosis)\n",
    "\n",
    "data = [1, 2, 3, 4, 5]\n",
    "describe(data)\n"
   ]
  },
  {
   "cell_type": "markdown",
   "metadata": {},
   "source": [
    "2.编写一个递归函数，计算下面数列的第n项\n",
    "\\begin{equation}\n",
    " {y=}\n",
    "  \\left\\{\n",
    "   \\begin{array}{c}\n",
    "   0,  n=0  \\\\\n",
    "   1,  n=1  \\\\\n",
    "   2,  n=2  \\\\\n",
    "   y_{n-1}+y_{n-2}+y_{n-3},n>2  \\\\\n",
    "   \\end{array}\n",
    "  \\right.\n",
    "  \\end{equation}"
   ]
  },
  {
   "cell_type": "code",
   "execution_count": 2,
   "metadata": {},
   "outputs": [
    {
     "name": "stdout",
     "output_type": "stream",
     "text": [
      "68\n"
     ]
    }
   ],
   "source": [
    "def getRecur(n):\n",
    "    if n == 0 :\n",
    "        return 0\n",
    "    elif n==1 :\n",
    "        return 1\n",
    "    elif n==2 :\n",
    "        return 2\n",
    "    else:\n",
    "        num = [0,1,2]\n",
    "        for i in range(3,n+1):\n",
    "            num.append(num[i-1]+num[i-2]+num[i-3])\n",
    "        return num[n]\n",
    "print(getRecur(8))"
   ]
  },
  {
   "cell_type": "code",
   "execution_count": null,
   "metadata": {},
   "outputs": [],
   "source": []
  }
 ],
 "metadata": {
  "kernelspec": {
   "display_name": "Python 3",
   "language": "python",
   "name": "python3"
  },
  "language_info": {
   "codemirror_mode": {
    "name": "ipython",
    "version": 3
   },
   "file_extension": ".py",
   "mimetype": "text/x-python",
   "name": "python",
   "nbconvert_exporter": "python",
   "pygments_lexer": "ipython3",
   "version": "3.12.2"
  }
 },
 "nbformat": 4,
 "nbformat_minor": 2
}
