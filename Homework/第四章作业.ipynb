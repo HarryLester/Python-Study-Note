{
 "cells": [
  {
   "cell_type": "markdown",
   "metadata": {},
   "source": [
    "# 第四章作业#"
   ]
  },
  {
   "cell_type": "markdown",
   "metadata": {},
   "source": [
    "1.设有列表lst_odd=[1,3,5,7,9]和列表lst_even=[2,4,6,8,10]。试编写程序，将两个列表合并成一个新的列表，并将新列表按照元素的大小降序排列。不改变列表的元素。"
   ]
  },
  {
   "cell_type": "code",
   "execution_count": 3,
   "metadata": {},
   "outputs": [
    {
     "data": {
      "text/plain": [
       "[10, 9, 8, 7, 6, 5, 4, 3, 2, 1]"
      ]
     },
     "execution_count": 3,
     "metadata": {},
     "output_type": "execute_result"
    }
   ],
   "source": [
    "lst_odd = [1,3,5,7,9]\n",
    "lst_even = [2,4,6,8,10]\n",
    "list_all = lst_odd + lst_even\n",
    "list_all.sort(reverse=True)\n",
    "list_all"
   ]
  },
  {
   "cell_type": "markdown",
   "metadata": {},
   "source": [
    "2.假设有字符串s=\"语文:80,数学:82,英语:90,物理:85,化学:88,美术:80\"，存放了某个学生的期末成绩。试编写程序，计算该学生所有科目的总分和平均分（保留一位小数）。"
   ]
  },
  {
   "cell_type": "code",
   "execution_count": 34,
   "metadata": {},
   "outputs": [
    {
     "name": "stdout",
     "output_type": "stream",
     "text": [
      "Sum:425.0\n",
      "Avg: 85.0\n"
     ]
    }
   ],
   "source": [
    "def getScore(s):\n",
    "    count = 0\n",
    "    score = ''\n",
    "    num = 0\n",
    "    sum = 0\n",
    "    for char in s:\n",
    "        if char.isdigit():\n",
    "            score+=char\n",
    "        elif char ==',' or char == s[-1]:\n",
    "            num = int(score)\n",
    "            score = ''\n",
    "            count+=1\n",
    "            sum+=num\n",
    "    print('Sum:%.1f'%sum)\n",
    "    print('Avg:',sum / count)\n",
    "\n",
    "s = '语文:80,数学:82,英语:90,物理:85,化学:88,美术:80'\n",
    "getScore(s)   \n",
    "\n",
    "\n"
   ]
  },
  {
   "cell_type": "markdown",
   "metadata": {},
   "source": [
    "3.假设有列表lst_student=[[\"001\",\"李梅\",19],[\"002\",\"刘祥\",20],[\"003\",\"张武\",18]],依次存放了每名学生的学号，姓名和年龄。试编写程序，\n",
    "实现以下功能：\n",
    "（1）在列表末尾添加表中学生信息。\n",
    "        学号     姓名    年龄\n",
    "        004      刘宁     20\n",
    "        006      凌峰     19\n",
    "（2）在列表适当位置添加表6中学生信息。\n",
    "        学号     姓名    年龄\n",
    "        005      林格     20\n",
    "（3）输出学号为003的学生信息。\n",
    "（4）输出所有学生的姓名。\n",
    "（5）输出年龄大于19的所有学生信息。\n",
    "（6）按照年龄升序排列\n"
   ]
  },
  {
   "cell_type": "code",
   "execution_count": 25,
   "metadata": {},
   "outputs": [
    {
     "name": "stdout",
     "output_type": "stream",
     "text": [
      "(1): [['001', '李梅', 19], ['002', '刘祥', 20], ['003', '张武', 18], ['004', '刘宁', 20], ['006', '凌峰', 19]]\n",
      "(2): [['001', '李梅', 19], ['002', '刘祥', 20], ['003', '张武', 18], ['004', '刘宁', 20], ['005', '林格', 20], ['006', '凌峰', 19]]\n",
      "(3): ['003', '张武', 18]\n",
      "(4):\n",
      "李梅\n",
      "刘祥\n",
      "张武\n",
      "刘宁\n",
      "林格\n",
      "凌峰\n",
      "(5):\n",
      "['002', '刘祥', 20]\n",
      "['004', '刘宁', 20]\n",
      "['005', '林格', 20]\n",
      "(6): [['002', '刘祥', 20], ['004', '刘宁', 20], ['005', '林格', 20], ['001', '李梅', 19], ['006', '凌峰', 19], ['003', '张武', 18]]\n"
     ]
    }
   ],
   "source": [
    "# (1)\n",
    "lst_student = [[\"001\",\"李梅\",19],[\"002\",\"刘祥\",20],[\"003\",\"张武\",18]]\n",
    "lst_student.append(['004','刘宁',20])\n",
    "lst_student.append(['006','凌峰',19])\n",
    "print('(1):',lst_student)\n",
    "\n",
    "#(2)\n",
    "lst_student.insert(4,['005','林格',20])\n",
    "print('(2):',lst_student)\n",
    "\n",
    "#(3)\n",
    "for item in lst_student:\n",
    "    if item[0] == \"003\":\n",
    "        print('(3):',item)\n",
    "\n",
    "#(4)\n",
    "print('(4):')\n",
    "for item in lst_student:\n",
    "    print(item[1])\n",
    "\n",
    "#(5)\n",
    "print('(5):')\n",
    "for item in lst_student:\n",
    "    if item[2] > 19:\n",
    "        print(item)\n",
    "\n",
    "#(6)\n",
    "lst_student_sorted = sorted(lst_student,key = lambda x : x[2],reverse=True)\n",
    "print('(6):',lst_student_sorted)\n"
   ]
  },
  {
   "cell_type": "code",
   "execution_count": null,
   "metadata": {},
   "outputs": [],
   "source": []
  }
 ],
 "metadata": {
  "kernelspec": {
   "display_name": "Python 3 (ipykernel)",
   "language": "python",
   "name": "python3"
  },
  "language_info": {
   "codemirror_mode": {
    "name": "ipython",
    "version": 3
   },
   "file_extension": ".py",
   "mimetype": "text/x-python",
   "name": "python",
   "nbconvert_exporter": "python",
   "pygments_lexer": "ipython3",
   "version": "3.11.5"
  }
 },
 "nbformat": 4,
 "nbformat_minor": 2
}
