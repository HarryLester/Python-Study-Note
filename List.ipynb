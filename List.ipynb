{
 "cells": [
  {
   "cell_type": "markdown",
   "id": "db285880",
   "metadata": {},
   "source": [
    "# 列表list"
   ]
  },
  {
   "cell_type": "markdown",
   "id": "48c39c97",
   "metadata": {},
   "source": [
    "## Copy"
   ]
  },
  {
   "cell_type": "code",
   "execution_count": 9,
   "id": "bb2a3b9e",
   "metadata": {},
   "outputs": [
    {
     "name": "stdout",
     "output_type": "stream",
     "text": [
      "['KentoMomota', 'VictorAxcelsen', 'Shiyuqi']\n",
      "['KentoMomota', 'VictorAxcelsen', 'Shiyuqi']\n"
     ]
    }
   ],
   "source": [
    "##浅拷贝（引用）\n",
    "playerlist = ['KentoMomota','VictorAxelsen','Shiyuqi']\n",
    "topPlayer = playerlist ##只是多了一个名字\n",
    "print(topPlayer)\n",
    "\n",
    "##深拷贝\n",
    "topPlayerList = playerlist.copy()\n",
    "print(topPlayerList)"
   ]
  },
  {
   "cell_type": "markdown",
   "id": "d5e92a80",
   "metadata": {},
   "source": [
    "## add"
   ]
  },
  {
   "cell_type": "code",
   "execution_count": 14,
   "id": "8aafc770",
   "metadata": {},
   "outputs": [
    {
     "name": "stdout",
     "output_type": "stream",
     "text": [
      "['KentoMomota', 'VictorAxcelsen', 'Shiyuqi', 'Lindan', 'Lichongwei']\n",
      "['Lindan', 'Lichongwei', 'Lindan', 'Lichongwei', 'Lindan', 'Lichongwei']\n"
     ]
    }
   ],
   "source": [
    "playerlist = ['KentoMomota','VictorAxelsen','Shiyuqi']\n",
    "legendPlayer = ['Lindan','Lichongwei']\n",
    "\n",
    "playerlist + legendPlayer ##only print,won't change the content\n",
    "playerlist = playerlist + legendPlayer ##change the content\n",
    "\n",
    "print(playerlist)\n",
    "\n",
    "playerlist.extend(legendPlayer) ##directly add behind\n",
    "\n",
    "print(legendPlayer * 3 ) ## the use of '*'"
   ]
  },
  {
   "cell_type": "markdown",
   "id": "c9830d76",
   "metadata": {},
   "source": [
    "## slice"
   ]
  },
  {
   "cell_type": "code",
   "execution_count": 18,
   "id": "672ea1c8",
   "metadata": {},
   "outputs": [
    {
     "data": {
      "text/plain": [
       "['Lichongwei', 'Lindan']"
      ]
     },
     "execution_count": 18,
     "metadata": {},
     "output_type": "execute_result"
    }
   ],
   "source": [
    "## list[startIndex:endIndex:n]\n",
    "playerlist[:2]\n",
    "playerlist[2:4]\n",
    "playerlist[4:2:-1]"
   ]
  },
  {
   "cell_type": "markdown",
   "id": "c00e7b35",
   "metadata": {},
   "source": [
    "## sort (characters and numbers)"
   ]
  },
  {
   "cell_type": "code",
   "execution_count": 22,
   "id": "36a90c82",
   "metadata": {},
   "outputs": [
    {
     "data": {
      "text/plain": [
       "['VictorAxcelsen',\n",
       " 'Shiyuqi',\n",
       " 'Lindan',\n",
       " 'Lindan',\n",
       " 'Lichongwei',\n",
       " 'Lichongwei',\n",
       " 'KentoMomota']"
      ]
     },
     "execution_count": 22,
     "metadata": {},
     "output_type": "execute_result"
    }
   ],
   "source": [
    "sorted(playerlist)  ##doesn't change the content,just print\n",
    "sorted(playerlist,reverse = True) ##reverse = True ==>升序 (默认降序)\n",
    "\n",
    "legendPlayer.sort() ##change the content (also #reverse)\n"
   ]
  },
  {
   "cell_type": "markdown",
   "id": "2e458912",
   "metadata": {},
   "source": [
    "## alter element"
   ]
  },
  {
   "cell_type": "code",
   "execution_count": 25,
   "id": "7ee158ca",
   "metadata": {},
   "outputs": [
    {
     "data": {
      "text/plain": [
       "['KentoMomota',\n",
       " 'VictorAxcelsen',\n",
       " 'Shiyuqi',\n",
       " 'Lindan(retired)',\n",
       " 'Lichongwei',\n",
       " 'Lindan',\n",
       " 'Lichongwei']"
      ]
     },
     "execution_count": 25,
     "metadata": {},
     "output_type": "execute_result"
    }
   ],
   "source": [
    "playerlist[3] = 'Lindan(retired)'\n",
    "playerlist"
   ]
  },
  {
   "cell_type": "markdown",
   "id": "54c97e82",
   "metadata": {},
   "source": [
    "## add element"
   ]
  },
  {
   "cell_type": "code",
   "execution_count": 32,
   "id": "917e8385",
   "metadata": {},
   "outputs": [
    {
     "data": {
      "text/plain": [
       "['KentoMomota',\n",
       " 'VictorAxcelsen',\n",
       " 'Shiyuqi',\n",
       " 'Kunlavut',\n",
       " 'Lindan(retired)',\n",
       " 'Lichongwei',\n",
       " 'Lindan',\n",
       " 'Lichongwei',\n",
       " 'Chanlong',\n",
       " 'Chanlong',\n",
       " 'Chanlong',\n",
       " 'Chanlong',\n",
       " 'Chanlong',\n",
       " 'Chanlong',\n",
       " 'Chanlong']"
      ]
     },
     "execution_count": 32,
     "metadata": {},
     "output_type": "execute_result"
    }
   ],
   "source": [
    "playerlist.append('Chanlong')\n",
    "playerlist\n",
    "\n",
    "playerlist.insert(3,'Kunlavut')##insert at index 3\n",
    "playerlist"
   ]
  },
  {
   "cell_type": "markdown",
   "id": "cb57a82d",
   "metadata": {},
   "source": [
    "## delete element"
   ]
  },
  {
   "cell_type": "code",
   "execution_count": 36,
   "id": "67d51d6d",
   "metadata": {},
   "outputs": [
    {
     "data": {
      "text/plain": [
       "['KentoMomota',\n",
       " 'VictorAxcelsen',\n",
       " 'Shiyuqi',\n",
       " 'Kunlavut',\n",
       " 'Lichongwei',\n",
       " 'Lichongwei',\n",
       " 'Chanlong',\n",
       " 'Chanlong',\n",
       " 'Chanlong',\n",
       " 'Chanlong']"
      ]
     },
     "execution_count": 36,
     "metadata": {},
     "output_type": "execute_result"
    }
   ],
   "source": [
    "del playerlist[4] ## del list[index]\n",
    "playerlist.pop(5) ## list.pop(index) =>remove and print\n",
    "playerlist.remove('Chanlong') ## list.remove('element') => remove the first chanlong\n",
    "playerlist\n"
   ]
  },
  {
   "cell_type": "markdown",
   "id": "14318bfc",
   "metadata": {},
   "source": [
    "## other operation"
   ]
  },
  {
   "cell_type": "code",
   "execution_count": 39,
   "id": "141a95ee",
   "metadata": {},
   "outputs": [
    {
     "data": {
      "text/plain": [
       "4"
      ]
     },
     "execution_count": 39,
     "metadata": {},
     "output_type": "execute_result"
    }
   ],
   "source": [
    "##get length\n",
    "len(playerlist)\n",
    "\n",
    "## in and not in\n",
    "'KentoMomota' in playerlist\n",
    "'Choutiancheng' not in playerlist\n",
    "\n",
    "##index\n",
    "playerlist.index('KentoMomota')\n",
    "\n",
    "##count\n",
    "playerlist.count('Chanlong')"
   ]
  },
  {
   "cell_type": "markdown",
   "id": "73012fb1",
   "metadata": {},
   "source": [
    "## loop"
   ]
  },
  {
   "cell_type": "code",
   "execution_count": 41,
   "id": "a9d5e307",
   "metadata": {},
   "outputs": [
    {
     "name": "stdout",
     "output_type": "stream",
     "text": [
      "KentoMomota\n",
      "VictorAxcelsen\n",
      "Shiyuqi\n"
     ]
    }
   ],
   "source": [
    "## range function\n",
    "for i in range(3): ## i=1 i<=3\n",
    "    print(playerlist[i])"
   ]
  },
  {
   "cell_type": "code",
   "execution_count": 42,
   "id": "fcf9df96",
   "metadata": {},
   "outputs": [
    {
     "name": "stdout",
     "output_type": "stream",
     "text": [
      "KentoMomota\n",
      "VictorAxcelsen\n",
      "Shiyuqi\n",
      "Kunlavut\n",
      "Lichongwei\n",
      "Lichongwei\n",
      "Chanlong\n",
      "Chanlong\n",
      "Chanlong\n",
      "Chanlong\n"
     ]
    }
   ],
   "source": [
    "## directly\n",
    "for player in playerlist:\n",
    "    print(player)"
   ]
  },
  {
   "cell_type": "markdown",
   "id": "ab8e9115",
   "metadata": {},
   "source": [
    "## creat number list"
   ]
  },
  {
   "cell_type": "code",
   "execution_count": 48,
   "id": "ef139e57",
   "metadata": {},
   "outputs": [
    {
     "name": "stdout",
     "output_type": "stream",
     "text": [
      "Please input a number list:[1,2,3]\n"
     ]
    }
   ],
   "source": [
    "##1. input function\n",
    "lnum = input('Please input a number list:')\n",
    "## << [1,2,3,4,5]  (string actually)"
   ]
  },
  {
   "cell_type": "code",
   "execution_count": 3,
   "id": "597b5c25",
   "metadata": {},
   "outputs": [
    {
     "name": "stdout",
     "output_type": "stream",
     "text": [
      "Please input a number list:1,2,3,4,5\n"
     ]
    },
    {
     "data": {
      "text/plain": [
       "[1, 2, 3, 4, 5]"
      ]
     },
     "execution_count": 3,
     "metadata": {},
     "output_type": "execute_result"
    }
   ],
   "source": [
    "  ## so => eval() function:\n",
    "lnum2 = eval(input('Please input a number list:'))\n",
    "lnum2 = list(lnum2)\n",
    "lnum2"
   ]
  },
  {
   "cell_type": "code",
   "execution_count": 46,
   "id": "74eb751c",
   "metadata": {},
   "outputs": [
    {
     "data": {
      "text/plain": [
       "[1, 2, 3, 4, 5, 6, 7, 8, 9]"
      ]
     },
     "execution_count": 46,
     "metadata": {},
     "output_type": "execute_result"
    }
   ],
   "source": [
    "##2. transform by list()\n",
    "lnum = list(range(1,10))\n",
    "lnum"
   ]
  },
  {
   "cell_type": "code",
   "execution_count": 47,
   "id": "e55ca61f",
   "metadata": {},
   "outputs": [
    {
     "data": {
      "text/plain": [
       "[1, 4, 9, 16, 25, 36, 49, 64, 81, 100]"
      ]
     },
     "execution_count": 47,
     "metadata": {},
     "output_type": "execute_result"
    }
   ],
   "source": [
    "##3. for loop\n",
    "lnum = []\n",
    "for i in range(1,11):\n",
    "    lnum.append(i**2)\n",
    "lnum"
   ]
  },
  {
   "cell_type": "markdown",
   "id": "b6510ed6",
   "metadata": {},
   "source": [
    "## max min average"
   ]
  },
  {
   "cell_type": "code",
   "execution_count": 1,
   "id": "a5e68f11",
   "metadata": {},
   "outputs": [
    {
     "name": "stdout",
     "output_type": "stream",
     "text": [
      "60 92 80.4\n"
     ]
    }
   ],
   "source": [
    "score = [81,90,79,60,92]\n",
    "minscore = min(score)\n",
    "maxscore = max(score)\n",
    "avescore = sum(score) / len(score)\n",
    "print(minscore,maxscore,avescore)"
   ]
  },
  {
   "cell_type": "markdown",
   "id": "083b4e48",
   "metadata": {},
   "source": [
    "# Practice"
   ]
  },
  {
   "cell_type": "markdown",
   "id": "681ff772",
   "metadata": {},
   "source": [
    "## 1."
   ]
  },
  {
   "cell_type": "code",
   "execution_count": 10,
   "id": "1e25dcf8",
   "metadata": {},
   "outputs": [
    {
     "data": {
      "text/plain": [
       "[]"
      ]
     },
     "execution_count": 10,
     "metadata": {},
     "output_type": "execute_result"
    }
   ],
   "source": [
    "I = [54,36,75,28,50]\n",
    "\n",
    "#1. \n",
    "I.append(42)\n",
    "#2.\n",
    "I.insert(I.index(28),66)\n",
    "#3.\n",
    "I.pop(I.index(28))\n",
    "#4.\n",
    "I.clear()\n",
    "I"
   ]
  },
  {
   "cell_type": "markdown",
   "id": "7d363e5f",
   "metadata": {},
   "source": [
    "# 4."
   ]
  },
  {
   "cell_type": "code",
   "execution_count": null,
   "id": "b934d264",
   "metadata": {},
   "outputs": [],
   "source": [
    "sentence = \"Hello world\"\n",
    "s = "
   ]
  },
  {
   "cell_type": "markdown",
   "id": "da16a033",
   "metadata": {},
   "source": [
    "# 5."
   ]
  },
  {
   "cell_type": "code",
   "execution_count": 17,
   "id": "2cc56817",
   "metadata": {},
   "outputs": [
    {
     "name": "stdout",
     "output_type": "stream",
     "text": [
      "ls: [2157, 1852, 2352, 2744, 4911, 4270, 3867, 3076, 3300, 2072, 3389, 4702, 3037, 3855, 3456, 3259, 4725, 2902, 2751, 2145, 1589]\n",
      "result: [3389, 3037, 3259]\n"
     ]
    }
   ],
   "source": [
    "import random\n",
    "ls = [random.randint(1000,5001) for i in range(0,21)]\n",
    "print('ls:',ls)\n",
    "result = []\n",
    "pri = (2,3,5,7)\n",
    "for item in ls:\n",
    "    #if item%2 != 0 or item%3 != 0 or item%5!=0 or item%7 != 0:\n",
    "    for j in pri:\n",
    "        if item % j == 0:\n",
    "            break\n",
    "        if j == 7 and item %7 != 0:\n",
    "            result.append(item)\n",
    "print('result:',result)"
   ]
  },
  {
   "cell_type": "code",
   "execution_count": null,
   "id": "afe63922",
   "metadata": {},
   "outputs": [],
   "source": []
  }
 ],
 "metadata": {
  "kernelspec": {
   "display_name": "Python 3 (ipykernel)",
   "language": "python",
   "name": "python3"
  },
  "language_info": {
   "codemirror_mode": {
    "name": "ipython",
    "version": 3
   },
   "file_extension": ".py",
   "mimetype": "text/x-python",
   "name": "python",
   "nbconvert_exporter": "python",
   "pygments_lexer": "ipython3",
   "version": "3.11.5"
  }
 },
 "nbformat": 4,
 "nbformat_minor": 5
}
