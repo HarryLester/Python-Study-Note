{
 "cells": [
  {
   "cell_type": "code",
   "execution_count": 2,
   "id": "aa9f9966",
   "metadata": {},
   "outputs": [
    {
     "name": "stdout",
     "output_type": "stream",
     "text": [
      "Found: 153\n",
      "Found: 370\n",
      "Found: 371\n",
      "Found: 407\n"
     ]
    }
   ],
   "source": [
    "#水仙花数  eg. 1**3 + 5**3 + 3**3 = 153\n",
    "for i in range(100,1000):\n",
    "    s = str(i)\n",
    "    if int(s[0])**3+int(s[1])**3+int(s[2])**3==i:\n",
    "        print('Found:',i)\n",
    "        "
   ]
  },
  {
   "cell_type": "code",
   "execution_count": 4,
   "id": "4f51ace6",
   "metadata": {},
   "outputs": [
    {
     "name": "stdout",
     "output_type": "stream",
     "text": [
      "[1, 1, 2, 3, 5, 8, 13, 21, 34, 55, 89, 144, 233, 377]\n"
     ]
    }
   ],
   "source": [
    "fibonacci = [1,1]\n",
    "for i in range(3,15):\n",
    "    add = 0\n",
    "    add = int(fibonacci[i-3])+int(fibonacci[i-2])\n",
    "    fibonacci.append(add)\n",
    "print(fibonacci)"
   ]
  },
  {
   "cell_type": "code",
   "execution_count": null,
   "id": "01c06d94",
   "metadata": {},
   "outputs": [],
   "source": []
  }
 ],
 "metadata": {
  "kernelspec": {
   "display_name": "Python 3 (ipykernel)",
   "language": "python",
   "name": "python3"
  },
  "language_info": {
   "codemirror_mode": {
    "name": "ipython",
    "version": 3
   },
   "file_extension": ".py",
   "mimetype": "text/x-python",
   "name": "python",
   "nbconvert_exporter": "python",
   "pygments_lexer": "ipython3",
   "version": "3.11.5"
  }
 },
 "nbformat": 4,
 "nbformat_minor": 5
}
