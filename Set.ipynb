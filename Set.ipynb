{
 "cells": [
  {
   "cell_type": "markdown",
   "id": "b2877606",
   "metadata": {},
   "source": [
    "# Set"
   ]
  },
  {
   "cell_type": "markdown",
   "id": "690527d5",
   "metadata": {},
   "source": [
    "## 创建与访问"
   ]
  },
  {
   "cell_type": "code",
   "execution_count": 2,
   "id": "0d785690",
   "metadata": {},
   "outputs": [],
   "source": [
    "# 1. 直接创建 \n",
    "# 元素必须是不可变的！！！ （所以列表不能当元素\n",
    "\n",
    "set1 = {1,2,3,4} # 如果有重复会自动删除\n",
    "set2 = {(1,2),(3,4)}\n",
    "\n",
    "#set3 = {[1,2],[3,4]} #列表不能当元素"
   ]
  },
  {
   "cell_type": "code",
   "execution_count": 5,
   "id": "49e60163",
   "metadata": {},
   "outputs": [
    {
     "name": "stdout",
     "output_type": "stream",
     "text": [
      "{'o', 'r', 'l', 'W', '!', ' ', 'e', 'd', 'H'}\n",
      "{1, 2, 3, 4, 5, 6}\n",
      "<class 'dict'> <class 'set'>\n"
     ]
    }
   ],
   "source": [
    "# 2. 使用set() 创建  （空集合只能用set()\n",
    "\n",
    "string1 = 'Hello World!'\n",
    "setstring1 = set(string1)\n",
    "print(setstring1)\n",
    "\n",
    "setlist = set([1,1,2,3,4,5,6])\n",
    "print(setlist)\n",
    "\n",
    "# 3. 创建空集合\n",
    "s1 = {}\n",
    "s2 = set()\n",
    "print(type(s1),type(s2))"
   ]
  },
  {
   "cell_type": "code",
   "execution_count": 7,
   "id": "15a7f51b",
   "metadata": {},
   "outputs": [
    {
     "name": "stdout",
     "output_type": "stream",
     "text": [
      "ls: [13, 12, 5, 19, 10, 3, 1, 14, 2, 19, 16, 14, 4, 15, 14, 1, 2, 17, 2, 13]\n",
      "setls: {1, 2, 3, 4, 5, 10, 12, 13, 14, 15, 16, 17, 19}\n"
     ]
    }
   ],
   "source": [
    "# 4. 集合的访问 -> 集合是无序的 访问只能整体输出或循环遍历元素\n",
    "import random\n",
    "ls = [random.randint(0,20) for i in range(20)]\n",
    "print('ls:',ls)\n",
    "\n",
    "setls = set(ls)\n",
    "print('setls:',setls)"
   ]
  },
  {
   "cell_type": "markdown",
   "id": "37ed92ef",
   "metadata": {},
   "source": [
    "# 集合的基本操作"
   ]
  },
  {
   "cell_type": "markdown",
   "id": "0dcaf94a",
   "metadata": {},
   "source": [
    "## 增"
   ]
  },
  {
   "cell_type": "code",
   "execution_count": 9,
   "id": "abb3b90f",
   "metadata": {},
   "outputs": [
    {
     "name": "stdout",
     "output_type": "stream",
     "text": [
      "{1, 2, 3, (4, 5, 6)}\n",
      "{1, 2, 3, 7, (4, 5, 6)}\n"
     ]
    }
   ],
   "source": [
    "# 1. add()\n",
    "S = {1,2,3}\n",
    "S.add((4,5,6))\n",
    "print(S)\n",
    "S.add(7)\n",
    "print(S)"
   ]
  },
  {
   "cell_type": "code",
   "execution_count": 10,
   "id": "74a0653f",
   "metadata": {},
   "outputs": [
    {
     "name": "stdout",
     "output_type": "stream",
     "text": [
      "{1, 2, 3, 4}\n"
     ]
    }
   ],
   "source": [
    "# 2. update()  -> 将参数序列items中的元素拆分去重后添加\n",
    "S = {1,2,3}\n",
    "S.update({2,3,4})\n",
    "print(S)"
   ]
  },
  {
   "cell_type": "markdown",
   "id": "b1d4f207",
   "metadata": {},
   "source": [
    "## 删"
   ]
  },
  {
   "cell_type": "code",
   "execution_count": 11,
   "id": "69781747",
   "metadata": {},
   "outputs": [],
   "source": [
    "# 1. remove()"
   ]
  },
  {
   "cell_type": "code",
   "execution_count": 12,
   "id": "602d894b",
   "metadata": {},
   "outputs": [],
   "source": [
    "# 2. discard()"
   ]
  },
  {
   "cell_type": "code",
   "execution_count": 13,
   "id": "e6c44103",
   "metadata": {},
   "outputs": [],
   "source": [
    "# 3. pop()"
   ]
  },
  {
   "cell_type": "code",
   "execution_count": 14,
   "id": "91023d95",
   "metadata": {},
   "outputs": [],
   "source": [
    "# 4. clear()"
   ]
  },
  {
   "cell_type": "markdown",
   "id": "1f5701b7",
   "metadata": {},
   "source": [
    "## 成员判断"
   ]
  },
  {
   "cell_type": "code",
   "execution_count": 15,
   "id": "ce5f392b",
   "metadata": {},
   "outputs": [
    {
     "name": "stdout",
     "output_type": "stream",
     "text": [
      "True\n"
     ]
    }
   ],
   "source": [
    "print(1 in S)"
   ]
  },
  {
   "cell_type": "markdown",
   "id": "57bbef51",
   "metadata": {},
   "source": [
    "# 集合的数学运算"
   ]
  },
  {
   "cell_type": "code",
   "execution_count": null,
   "id": "718ba55e",
   "metadata": {},
   "outputs": [],
   "source": []
  }
 ],
 "metadata": {
  "kernelspec": {
   "display_name": "Python 3 (ipykernel)",
   "language": "python",
   "name": "python3"
  },
  "language_info": {
   "codemirror_mode": {
    "name": "ipython",
    "version": 3
   },
   "file_extension": ".py",
   "mimetype": "text/x-python",
   "name": "python",
   "nbconvert_exporter": "python",
   "pygments_lexer": "ipython3",
   "version": "3.11.5"
  }
 },
 "nbformat": 4,
 "nbformat_minor": 5
}
