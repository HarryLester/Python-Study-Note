{
 "cells": [
  {
   "cell_type": "code",
   "execution_count": 1,
   "id": "c2168347",
   "metadata": {},
   "outputs": [],
   "source": [
    "s = 'The aim of this paper is twofold: to provide a theoretical model to analyze obstacles, challenges, and incentives which lead a nonprofessional user to design websites and produce information that are accessible to people with disabilities, and to develop a reliable and validated instrument designed to measure the construct that are part of this model.'"
   ]
  },
  {
   "cell_type": "code",
   "execution_count": 12,
   "id": "e99d871f",
   "metadata": {},
   "outputs": [
    {
     "name": "stdout",
     "output_type": "stream",
     "text": [
      "['the', 'aim', 'of', 'this', 'paper', 'is', 'twofold', 'to', 'provide', 'a', 'theoretical', 'model', 'to', 'analyze', 'obstacles', 'challenges', 'and', 'incentives', 'which', 'lead', 'a', 'nonprofessional', 'user', 'to', 'design', 'websites', 'and', 'produce', 'information', 'that', 'are', 'accessible', 'to', 'people', 'with', 'disabilities', 'and', 'to', 'develop', 'a', 'reliable', 'and', 'validated', 'instrument', 'designed', 'to', 'measure', 'the', 'construct', 'that', 'are', 'part', 'of', 'this', 'model']\n"
     ]
    }
   ],
   "source": [
    "b=''\n",
    "for char in s:\n",
    "    if char not in [',','.','!',':']:\n",
    "        b+=char\n",
    "b = b.lower()\n",
    "s_split = b.split()\n",
    "print(s_split)"
   ]
  },
  {
   "cell_type": "code",
   "execution_count": 13,
   "id": "16f343bf",
   "metadata": {},
   "outputs": [
    {
     "name": "stdout",
     "output_type": "stream",
     "text": [
      "{'the': 2, 'aim': 1, 'of': 2, 'this': 2, 'paper': 1, 'is': 1, 'twofold': 1, 'to': 6, 'provide': 1, 'a': 3, 'theoretical': 1, 'model': 2, 'analyze': 1, 'obstacles': 1, 'challenges': 1, 'and': 4, 'incentives': 1, 'which': 1, 'lead': 1, 'nonprofessional': 1, 'user': 1, 'design': 1, 'websites': 1, 'produce': 1, 'information': 1, 'that': 2, 'are': 2, 'accessible': 1, 'people': 1, 'with': 1, 'disabilities': 1, 'develop': 1, 'reliable': 1, 'validated': 1, 'instrument': 1, 'designed': 1, 'measure': 1, 'construct': 1, 'part': 1}\n"
     ]
    }
   ],
   "source": [
    "dict_time = {}\n",
    "for item in s_split:\n",
    "    if item not in dict_time:\n",
    "        dict_time[item] = 1\n",
    "    else:\n",
    "        dict_time[item] +=1\n",
    "print(dict_time)"
   ]
  },
  {
   "cell_type": "code",
   "execution_count": 16,
   "id": "7d7a555e",
   "metadata": {
    "scrolled": true
   },
   "outputs": [
    {
     "data": {
      "text/plain": [
       "['a',\n",
       " 'accessible',\n",
       " 'aim',\n",
       " 'analyze',\n",
       " 'and',\n",
       " 'are',\n",
       " 'challenges',\n",
       " 'construct',\n",
       " 'design',\n",
       " 'designed',\n",
       " 'develop',\n",
       " 'disabilities',\n",
       " 'incentives',\n",
       " 'information',\n",
       " 'instrument',\n",
       " 'is',\n",
       " 'lead',\n",
       " 'measure',\n",
       " 'model',\n",
       " 'nonprofessional',\n",
       " 'obstacles',\n",
       " 'of',\n",
       " 'paper',\n",
       " 'part',\n",
       " 'people',\n",
       " 'produce',\n",
       " 'provide',\n",
       " 'reliable',\n",
       " 'that',\n",
       " 'the',\n",
       " 'theoretical',\n",
       " 'this',\n",
       " 'to',\n",
       " 'twofold',\n",
       " 'user',\n",
       " 'validated',\n",
       " 'websites',\n",
       " 'which',\n",
       " 'with']"
      ]
     },
     "execution_count": 16,
     "metadata": {},
     "output_type": "execute_result"
    }
   ],
   "source": [
    "sorted(dict_time)"
   ]
  },
  {
   "cell_type": "code",
   "execution_count": 19,
   "id": "d68d4024",
   "metadata": {},
   "outputs": [
    {
     "data": {
      "text/plain": [
       "[('the', 2),\n",
       " ('aim', 1),\n",
       " ('of', 2),\n",
       " ('this', 2),\n",
       " ('paper', 1),\n",
       " ('is', 1),\n",
       " ('twofold', 1),\n",
       " ('to', 6),\n",
       " ('provide', 1),\n",
       " ('a', 3),\n",
       " ('theoretical', 1),\n",
       " ('model', 2),\n",
       " ('analyze', 1),\n",
       " ('obstacles', 1),\n",
       " ('challenges', 1),\n",
       " ('and', 4),\n",
       " ('incentives', 1),\n",
       " ('which', 1),\n",
       " ('lead', 1),\n",
       " ('nonprofessional', 1),\n",
       " ('user', 1),\n",
       " ('design', 1),\n",
       " ('websites', 1),\n",
       " ('produce', 1),\n",
       " ('information', 1),\n",
       " ('that', 2),\n",
       " ('are', 2),\n",
       " ('accessible', 1),\n",
       " ('people', 1),\n",
       " ('with', 1),\n",
       " ('disabilities', 1),\n",
       " ('develop', 1),\n",
       " ('reliable', 1),\n",
       " ('validated', 1),\n",
       " ('instrument', 1),\n",
       " ('designed', 1),\n",
       " ('measure', 1),\n",
       " ('construct', 1),\n",
       " ('part', 1)]"
      ]
     },
     "execution_count": 19,
     "metadata": {},
     "output_type": "execute_result"
    }
   ],
   "source": [
    "sort_list = [(v,s) for v,s in dict_time.items()]\n",
    "sort_list"
   ]
  },
  {
   "cell_type": "code",
   "execution_count": 22,
   "id": "cb431db8",
   "metadata": {},
   "outputs": [],
   "source": [
    "sort_list.sort(key = lambda x : x[1],reverse = True)"
   ]
  },
  {
   "cell_type": "code",
   "execution_count": 23,
   "id": "acf8c1ed",
   "metadata": {},
   "outputs": [
    {
     "data": {
      "text/plain": [
       "[('to', 6),\n",
       " ('and', 4),\n",
       " ('a', 3),\n",
       " ('the', 2),\n",
       " ('of', 2),\n",
       " ('this', 2),\n",
       " ('model', 2),\n",
       " ('that', 2),\n",
       " ('are', 2),\n",
       " ('aim', 1),\n",
       " ('paper', 1),\n",
       " ('is', 1),\n",
       " ('twofold', 1),\n",
       " ('provide', 1),\n",
       " ('theoretical', 1),\n",
       " ('analyze', 1),\n",
       " ('obstacles', 1),\n",
       " ('challenges', 1),\n",
       " ('incentives', 1),\n",
       " ('which', 1),\n",
       " ('lead', 1),\n",
       " ('nonprofessional', 1),\n",
       " ('user', 1),\n",
       " ('design', 1),\n",
       " ('websites', 1),\n",
       " ('produce', 1),\n",
       " ('information', 1),\n",
       " ('accessible', 1),\n",
       " ('people', 1),\n",
       " ('with', 1),\n",
       " ('disabilities', 1),\n",
       " ('develop', 1),\n",
       " ('reliable', 1),\n",
       " ('validated', 1),\n",
       " ('instrument', 1),\n",
       " ('designed', 1),\n",
       " ('measure', 1),\n",
       " ('construct', 1),\n",
       " ('part', 1)]"
      ]
     },
     "execution_count": 23,
     "metadata": {},
     "output_type": "execute_result"
    }
   ],
   "source": [
    "sort_list"
   ]
  },
  {
   "cell_type": "code",
   "execution_count": null,
   "id": "830e77cc",
   "metadata": {},
   "outputs": [],
   "source": []
  }
 ],
 "metadata": {
  "kernelspec": {
   "display_name": "Python 3 (ipykernel)",
   "language": "python",
   "name": "python3"
  },
  "language_info": {
   "codemirror_mode": {
    "name": "ipython",
    "version": 3
   },
   "file_extension": ".py",
   "mimetype": "text/x-python",
   "name": "python",
   "nbconvert_exporter": "python",
   "pygments_lexer": "ipython3",
   "version": "3.11.5"
  }
 },
 "nbformat": 4,
 "nbformat_minor": 5
}
