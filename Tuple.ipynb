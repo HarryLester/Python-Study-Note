{
 "cells": [
  {
   "cell_type": "markdown",
   "id": "d7b3c433",
   "metadata": {},
   "source": [
    "# Tuple (list that can't change the element)"
   ]
  },
  {
   "cell_type": "markdown",
   "id": "f7f284e1",
   "metadata": {},
   "source": [
    "### Tuple could be the element of the list, list also could be the element of tuple!"
   ]
  },
  {
   "cell_type": "code",
   "execution_count": 1,
   "id": "451e1f16",
   "metadata": {},
   "outputs": [
    {
     "data": {
      "text/plain": [
       "('Kento', 'victor', 'Yuqi')"
      ]
     },
     "execution_count": 1,
     "metadata": {},
     "output_type": "execute_result"
    }
   ],
   "source": [
    "player = ('Kento','victor','Yuqi')\n",
    "player"
   ]
  },
  {
   "cell_type": "code",
   "execution_count": 2,
   "id": "e39ac1ce",
   "metadata": {},
   "outputs": [
    {
     "data": {
      "text/plain": [
       "(['Kento', 1], ['Yuqi', 2], ['Victor', 3])"
      ]
     },
     "execution_count": 2,
     "metadata": {},
     "output_type": "execute_result"
    }
   ],
   "source": [
    "Player = (['Kento',1],['Yuqi',2],['Victor',3])\n",
    "Player"
   ]
  },
  {
   "cell_type": "markdown",
   "id": "63d0b8e4",
   "metadata": {},
   "source": [
    "# TransformationFunction"
   ]
  },
  {
   "cell_type": "code",
   "execution_count": 3,
   "id": "68789242",
   "metadata": {},
   "outputs": [
    {
     "data": {
      "text/plain": [
       "[['Kento', 1], ['Yuqi', 2], ['Victor', 3]]"
      ]
     },
     "execution_count": 3,
     "metadata": {},
     "output_type": "execute_result"
    }
   ],
   "source": [
    "## Tuple to list\n",
    "listPlayer = list(Player)\n",
    "listPlayer"
   ]
  },
  {
   "cell_type": "code",
   "execution_count": 4,
   "id": "c63ec805",
   "metadata": {},
   "outputs": [
    {
     "data": {
      "text/plain": [
       "['K', 'e', 'n', 't', 'o', 'M', 'o', 'm', 'o', 't', 'a']"
      ]
     },
     "execution_count": 4,
     "metadata": {},
     "output_type": "execute_result"
    }
   ],
   "source": [
    "## string to list:\n",
    "name = 'KentoMomota'\n",
    "No1Player = list(name)\n",
    "No1Player"
   ]
  },
  {
   "cell_type": "code",
   "execution_count": 6,
   "id": "8804e52f",
   "metadata": {},
   "outputs": [
    {
     "data": {
      "text/plain": [
       "['Kento', 'Momota', 'is', 'the', 'best', 'player', 'in', 'the', 'time']"
      ]
     },
     "execution_count": 6,
     "metadata": {},
     "output_type": "execute_result"
    }
   ],
   "source": [
    "## split function(accroding to the certain split dot to split the string)\n",
    "sentence = 'Kento Momota is the best player in the time'\n",
    "sentenceList = sentence.split()\n",
    "sentenceList"
   ]
  },
  {
   "cell_type": "code",
   "execution_count": null,
   "id": "ab66a758",
   "metadata": {},
   "outputs": [],
   "source": []
  }
 ],
 "metadata": {
  "kernelspec": {
   "display_name": "Python 3 (ipykernel)",
   "language": "python",
   "name": "python3"
  },
  "language_info": {
   "codemirror_mode": {
    "name": "ipython",
    "version": 3
   },
   "file_extension": ".py",
   "mimetype": "text/x-python",
   "name": "python",
   "nbconvert_exporter": "python",
   "pygments_lexer": "ipython3",
   "version": "3.11.5"
  }
 },
 "nbformat": 4,
 "nbformat_minor": 5
}
